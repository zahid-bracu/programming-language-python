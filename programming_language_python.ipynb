{
  "nbformat": 4,
  "nbformat_minor": 0,
  "metadata": {
    "colab": {
      "name": "programming-language-python.ipynb",
      "provenance": [],
      "authorship_tag": "ABX9TyM1bGgDk6Vt66nAbzg9L8p0",
      "include_colab_link": true
    },
    "kernelspec": {
      "name": "python3",
      "display_name": "Python 3"
    },
    "language_info": {
      "name": "python"
    }
  },
  "cells": [
    {
      "cell_type": "markdown",
      "metadata": {
        "id": "view-in-github",
        "colab_type": "text"
      },
      "source": [
        "<a href=\"https://colab.research.google.com/github/zahid-bracu/programming-language-python/blob/main/programming_language_python.ipynb\" target=\"_parent\"><img src=\"https://colab.research.google.com/assets/colab-badge.svg\" alt=\"Open In Colab\"/></a>"
      ]
    },
    {
      "cell_type": "code",
      "execution_count": 1,
      "metadata": {
        "colab": {
          "base_uri": "https://localhost:8080/"
        },
        "id": "NRd-R2iC7IJy",
        "outputId": "2f2f4b4e-9536-4dac-baf4-f1861bf3b158"
      },
      "outputs": [
        {
          "output_type": "stream",
          "name": "stdout",
          "text": [
            "Hello World\n"
          ]
        }
      ],
      "source": [
        "#Hello World Printing : \n",
        "print ('Hello World')\n"
      ]
    },
    {
      "cell_type": "code",
      "source": [
        "#Shape Printing :\n",
        "print ('     /|')\n",
        "print ('    / |')\n",
        "print ('   /  |')\n",
        "print ('  /   |')\n",
        "print (' /____|')\n"
      ],
      "metadata": {
        "colab": {
          "base_uri": "https://localhost:8080/"
        },
        "id": "ELrHyNwV7TWX",
        "outputId": "f6e0b48e-5607-410e-d1bd-b5340f357ca0"
      },
      "execution_count": 2,
      "outputs": [
        {
          "output_type": "stream",
          "name": "stdout",
          "text": [
            "     /|\n",
            "    / |\n",
            "   /  |\n",
            "  /   |\n",
            " /____|\n"
          ]
        }
      ]
    },
    {
      "cell_type": "code",
      "source": [
        "#Data Types : \n",
        "#String & integer print : \n",
        "name=\"Zahid\"\n",
        "age=26\n",
        "print(\"My Name is \"+name+\" and my age is \"+str(age))\n"
      ],
      "metadata": {
        "colab": {
          "base_uri": "https://localhost:8080/"
        },
        "id": "vZhcH8hT7Vjv",
        "outputId": "50a120bd-bdf9-4ccd-f77c-b50aeb470eb1"
      },
      "execution_count": 3,
      "outputs": [
        {
          "output_type": "stream",
          "name": "stdout",
          "text": [
            "My Name is Zahid and my age is 26\n"
          ]
        }
      ]
    },
    {
      "cell_type": "code",
      "source": [
        "#String , integer & boolean print:\n",
        "name=\"Zahid\"\n",
        "age=26\n",
        "flag=True\n",
        "print(\"My name is \"+name+\" and my age is \"+str(age)+\" and the statement is \"+str(flag))\n"
      ],
      "metadata": {
        "colab": {
          "base_uri": "https://localhost:8080/"
        },
        "id": "BirF_fSR7cXH",
        "outputId": "eadb27a4-0d84-4e11-ee88-8e52733e4650"
      },
      "execution_count": 4,
      "outputs": [
        {
          "output_type": "stream",
          "name": "stdout",
          "text": [
            "My name is Zahid and my age is 26 and the statement is True\n"
          ]
        }
      ]
    },
    {
      "cell_type": "code",
      "source": [
        "#Float/Double  print:\n",
        "cgpa=3.60\n",
        "print(\"My Result is \"+str(cgpa))\n"
      ],
      "metadata": {
        "colab": {
          "base_uri": "https://localhost:8080/"
        },
        "id": "3OswZv9o7gk_",
        "outputId": "b419e76a-e1e1-401a-93c3-28b3776b235d"
      },
      "execution_count": 5,
      "outputs": [
        {
          "output_type": "stream",
          "name": "stdout",
          "text": [
            "My Result is 3.6\n"
          ]
        }
      ]
    },
    {
      "cell_type": "code",
      "source": [
        "#Type Casting :\n",
        "name=\"Zahid\"\n",
        "age=26\n",
        "cgpa=3.60\n",
        "flag=True\n",
        "\n",
        "cgpa=int(cgpa) #float to integer type casting\n",
        "print(cgpa)#Output : 3\n",
        "\n",
        "age=str(age) #int to string type casting\n",
        "print(age)\n",
        "\n",
        "age=float(age) #string to float type casting\n",
        "print(age)\n",
        "\n"
      ],
      "metadata": {
        "colab": {
          "base_uri": "https://localhost:8080/"
        },
        "id": "pkI1RQKs7itv",
        "outputId": "7dda7cf7-01da-4de6-c077-2cd33329ec86"
      },
      "execution_count": 7,
      "outputs": [
        {
          "output_type": "stream",
          "name": "stdout",
          "text": [
            "3\n",
            "26\n",
            "26.0\n"
          ]
        }
      ]
    },
    {
      "cell_type": "code",
      "source": [
        "#Line Break:\n",
        "print(\"My name is\\nZahid\")\n"
      ],
      "metadata": {
        "colab": {
          "base_uri": "https://localhost:8080/"
        },
        "id": "SEaLDEOS7pz2",
        "outputId": "f00e09b2-dd73-4d6b-dbc0-c9dcefe0453f"
      },
      "execution_count": 8,
      "outputs": [
        {
          "output_type": "stream",
          "name": "stdout",
          "text": [
            "My name is\n",
            "Zahid\n"
          ]
        }
      ]
    },
    {
      "cell_type": "code",
      "source": [
        "#Upper Case & Lower Case :\n",
        "phrase=\"MIT\"\n",
        "print(phrase.lower()+\"  is Cool\") #mit is cool\n",
        "print(phrase.upper()+\"  is Cool\") #MIT is cool\n",
        "#Upper Case & Lower Case Check:\n",
        "print(phrase.isupper()) #True\n",
        "print(phrase.islower()) #False\n"
      ],
      "metadata": {
        "colab": {
          "base_uri": "https://localhost:8080/"
        },
        "id": "tCUUJhHh7u4v",
        "outputId": "014ff4a7-11c2-498d-fc82-3439816135e3"
      },
      "execution_count": 10,
      "outputs": [
        {
          "output_type": "stream",
          "name": "stdout",
          "text": [
            "mit  is Cool\n",
            "MIT  is Cool\n",
            "True\n",
            "False\n"
          ]
        }
      ]
    },
    {
      "cell_type": "code",
      "source": [
        "#Math Functions\n",
        "from math import *\n",
        "\n",
        "my_num=-5\n",
        "print(abs(my_num))\n",
        "print(pow(2,2))\n",
        "print(max(3,4,5,7))\n",
        "print(min(2,3,1,-1))\n",
        "print(round(4.50))\n",
        "print(ceil(4.30))\n",
        "print(floor(4.70))\n",
        "print(sqrt(36))\n"
      ],
      "metadata": {
        "colab": {
          "base_uri": "https://localhost:8080/"
        },
        "id": "nI1Nz5SC77h2",
        "outputId": "137d000a-50cf-4952-cb43-81393a33cfb6"
      },
      "execution_count": 11,
      "outputs": [
        {
          "output_type": "stream",
          "name": "stdout",
          "text": [
            "5\n",
            "4.0\n",
            "7\n",
            "-1\n",
            "4\n",
            "5\n",
            "4\n",
            "6.0\n"
          ]
        }
      ]
    },
    {
      "cell_type": "code",
      "source": [
        "#User Input\n",
        "name=input(\"Please Enter Your Name \\n\")\n",
        "age=input(\"Please Enter Your Age \\n\")\n",
        "print(name+\" : \"+age)\n"
      ],
      "metadata": {
        "colab": {
          "base_uri": "https://localhost:8080/"
        },
        "id": "ja_S2M7Z8Fsv",
        "outputId": "7841ce41-95a4-4fe3-8436-4a7bd873c5a3"
      },
      "execution_count": 12,
      "outputs": [
        {
          "output_type": "stream",
          "name": "stdout",
          "text": [
            "Please Enter Your Name \n",
            "zahid\n",
            "Please Enter Your Age \n",
            "18\n",
            "zahid : 18\n"
          ]
        }
      ]
    },
    {
      "cell_type": "code",
      "source": [
        "#Add Two Number from User Input\n",
        "numOne=input(\"Enter the first number \\n\")\n",
        "numTwo=input(\"Enter the second number \\n\")\n",
        "result=int(numOne)+float(numTwo)\n",
        "print(result)\n"
      ],
      "metadata": {
        "colab": {
          "base_uri": "https://localhost:8080/"
        },
        "id": "RR0kRkh68K2G",
        "outputId": "282ef1eb-d75a-4e89-a598-0e44c9cc2705"
      },
      "execution_count": 13,
      "outputs": [
        {
          "output_type": "stream",
          "name": "stdout",
          "text": [
            "Enter the first number \n",
            "12\n",
            "Enter the second number \n",
            "21\n",
            "33.0\n"
          ]
        }
      ]
    },
    {
      "cell_type": "code",
      "source": [
        "#Mad Libs\n",
        "name = input(\"Please Enter the Name \\n\")\n",
        "age = input(\"Please Enter your Age \\n\")\n",
        "ID = input(\"Please Enter your ID \\n\")\n",
        "\n",
        "print(name +\" is my name.\")\n",
        "print(\"My age is \"+age)\n",
        "print(\"& my ID is \"+ID)\n"
      ],
      "metadata": {
        "colab": {
          "base_uri": "https://localhost:8080/"
        },
        "id": "z0ekV7WQ8SHW",
        "outputId": "651e0003-68f0-4366-fd22-5a7364341552"
      },
      "execution_count": 14,
      "outputs": [
        {
          "output_type": "stream",
          "name": "stdout",
          "text": [
            "Please Enter the Name \n",
            "zahid\n",
            "Please Enter your Age \n",
            "13\n",
            "Please Enter your ID \n",
            "1213\n",
            "zahid is my name.\n",
            "My age is 13\n",
            "& my ID is 1213\n"
          ]
        }
      ]
    }
  ]
}