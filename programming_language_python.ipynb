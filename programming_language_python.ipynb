{
  "nbformat": 4,
  "nbformat_minor": 0,
  "metadata": {
    "colab": {
      "provenance": []
    },
    "kernelspec": {
      "name": "python3",
      "display_name": "Python 3"
    },
    "language_info": {
      "name": "python"
    }
  },
  "cells": [
    {
      "cell_type": "code",
      "source": [
        "print ('Hello World')\t"
      ],
      "metadata": {
        "colab": {
          "base_uri": "https://localhost:8080/"
        },
        "id": "WNWwA6TjTHwQ",
        "outputId": "d6ba564d-bbd6-4f2a-9d1a-a214ce0b0dc0"
      },
      "execution_count": 1,
      "outputs": [
        {
          "output_type": "stream",
          "name": "stdout",
          "text": [
            "Hello World\n"
          ]
        }
      ]
    },
    {
      "cell_type": "code",
      "source": [
        "print ('     /|')\n",
        "print ('    / |')\n",
        "print ('   /  |')\n",
        "print ('  /   |')\n",
        "print (' /____|')\n"
      ],
      "metadata": {
        "colab": {
          "base_uri": "https://localhost:8080/"
        },
        "id": "fMuCyt9CTN46",
        "outputId": "08aeb369-b1b3-4b5a-d3f9-e4dd62d2b0d5"
      },
      "execution_count": 2,
      "outputs": [
        {
          "output_type": "stream",
          "name": "stdout",
          "text": [
            "     /|\n",
            "    / |\n",
            "   /  |\n",
            "  /   |\n",
            " /____|\n"
          ]
        }
      ]
    },
    {
      "cell_type": "code",
      "source": [
        "name=\"Zahid\"\t\t #string type\n",
        "age=26 \t\t\t#integer type\n",
        "print(\"My Name is \"+name+\" and my age is \"+str(age))\n",
        "#My name is Zahid and my age is 26\n"
      ],
      "metadata": {
        "colab": {
          "base_uri": "https://localhost:8080/"
        },
        "id": "p4aMZyd3TSDg",
        "outputId": "34c940d0-c626-4abc-a6f0-c55ec1d21bc1"
      },
      "execution_count": 3,
      "outputs": [
        {
          "output_type": "stream",
          "name": "stdout",
          "text": [
            "My Name is Zahid and my age is 26\n"
          ]
        }
      ]
    },
    {
      "cell_type": "code",
      "source": [
        "name=\"Zahid\" #string type\n",
        "age=26 #integer type\n",
        "flag=True #boolean type\n",
        "print(\"My name is \"+name+\" and my age is \"+str(age)+\" and the statement is \"+str(flag)) #string & integer & boolean printing together\n",
        "#My name is Zahid and my age is 26 and the statement is True\n"
      ],
      "metadata": {
        "colab": {
          "base_uri": "https://localhost:8080/"
        },
        "id": "Nxoi6IylTVKo",
        "outputId": "33254112-85b4-4166-dc4d-60be2a1b8a92"
      },
      "execution_count": 4,
      "outputs": [
        {
          "output_type": "stream",
          "name": "stdout",
          "text": [
            "My name is Zahid and my age is 26 and the statement is True\n"
          ]
        }
      ]
    },
    {
      "cell_type": "code",
      "source": [
        "cgpa=3.60 #float type\n",
        "print(\"My Result is \"+str(cgpa)) #float & string print together\n",
        "#My Result is 3.6\n"
      ],
      "metadata": {
        "colab": {
          "base_uri": "https://localhost:8080/"
        },
        "id": "PZOdABjiTYj4",
        "outputId": "a5796064-63c4-42bb-c335-db14d2a4b4f5"
      },
      "execution_count": 5,
      "outputs": [
        {
          "output_type": "stream",
          "name": "stdout",
          "text": [
            "My Result is 3.6\n"
          ]
        }
      ]
    },
    {
      "cell_type": "code",
      "source": [
        "name=\"Zahid\"\n",
        "age=26\n",
        "cgpa=3.60\n",
        "flag=True\n",
        "\n",
        "cgpa=int(cgpa) #float to integer type casting\n",
        "print(cgpa) #3\n",
        "\n",
        "age=str(age) #int to string type casting\n",
        "print(age) #26\n",
        "\n",
        "age=float(age) #string to float type casting\n",
        "print(age) #26.0"
      ],
      "metadata": {
        "colab": {
          "base_uri": "https://localhost:8080/"
        },
        "id": "aIWnAwX_TbO4",
        "outputId": "a6e705e6-1802-4fb0-91c1-bb8c018005a8"
      },
      "execution_count": 6,
      "outputs": [
        {
          "output_type": "stream",
          "name": "stdout",
          "text": [
            "3\n",
            "26\n",
            "26.0\n"
          ]
        }
      ]
    },
    {
      "cell_type": "code",
      "source": [
        "print(\"My name is\\nZahid\")\n",
        "#My name is\n",
        "#Zahid\n"
      ],
      "metadata": {
        "colab": {
          "base_uri": "https://localhost:8080/"
        },
        "id": "HQB76v_mTfNX",
        "outputId": "48bc28cd-8959-4b65-a476-92b59913f9fa"
      },
      "execution_count": 7,
      "outputs": [
        {
          "output_type": "stream",
          "name": "stdout",
          "text": [
            "My name is\n",
            "Zahid\n"
          ]
        }
      ]
    },
    {
      "cell_type": "code",
      "source": [
        "print(\"I completed PGD from \\\"BAU\\\"\")\n",
        "#I completed PGD from \"BAU\" \n"
      ],
      "metadata": {
        "colab": {
          "base_uri": "https://localhost:8080/"
        },
        "id": "SCmUIucITiYo",
        "outputId": "125bfe63-40ac-4002-e3d4-0a758d005a14"
      },
      "execution_count": 8,
      "outputs": [
        {
          "output_type": "stream",
          "name": "stdout",
          "text": [
            "I completed PGD from \"BAU\"\n"
          ]
        }
      ]
    },
    {
      "cell_type": "code",
      "source": [
        "phrase=\"MIT\"\n",
        "print(phrase.lower()+\"  is Cool\") #mit is cool\n",
        "print(phrase.upper()+\"  is Cool\") #MIT is cool"
      ],
      "metadata": {
        "colab": {
          "base_uri": "https://localhost:8080/"
        },
        "id": "EdLYtdSWTk_o",
        "outputId": "a81dd554-5f18-4a5d-8565-0f8b9f99c327"
      },
      "execution_count": 9,
      "outputs": [
        {
          "output_type": "stream",
          "name": "stdout",
          "text": [
            "mit  is Cool\n",
            "MIT  is Cool\n"
          ]
        }
      ]
    },
    {
      "cell_type": "code",
      "source": [
        "print(phrase.isupper()) #True\n",
        "print(phrase.islower()) #False"
      ],
      "metadata": {
        "colab": {
          "base_uri": "https://localhost:8080/"
        },
        "id": "vhMT9MVQTnnQ",
        "outputId": "eb130c1b-be5a-4d92-d456-a902928b362a"
      },
      "execution_count": 10,
      "outputs": [
        {
          "output_type": "stream",
          "name": "stdout",
          "text": [
            "True\n",
            "False\n"
          ]
        }
      ]
    },
    {
      "cell_type": "code",
      "source": [
        "phrase=\"Very Spooky\"\n",
        "print(phrase.upper().islower()) #False"
      ],
      "metadata": {
        "colab": {
          "base_uri": "https://localhost:8080/"
        },
        "id": "fQgUQH91Tp3g",
        "outputId": "b1096f4d-7e28-4c60-8947-cb9c531b3a98"
      },
      "execution_count": 11,
      "outputs": [
        {
          "output_type": "stream",
          "name": "stdout",
          "text": [
            "False\n"
          ]
        }
      ]
    },
    {
      "cell_type": "code",
      "source": [
        "phrase=\"Mit\"\n",
        "print(len(phrase)) #3"
      ],
      "metadata": {
        "colab": {
          "base_uri": "https://localhost:8080/"
        },
        "id": "nxnLjJmbTsN5",
        "outputId": "c80d8479-60a6-435f-ca09-a3f1ecf7e70a"
      },
      "execution_count": 12,
      "outputs": [
        {
          "output_type": "stream",
          "name": "stdout",
          "text": [
            "3\n"
          ]
        }
      ]
    },
    {
      "cell_type": "code",
      "source": [
        "phrase=\"Massachusetts Institute of Technology\"\n",
        "print(phrase[0]) #M\n",
        "print(phrase[5]) #c\n",
        "print(phrase[-1]) #y\n",
        "print(phrase.index(\"T\")) #27\n",
        "print(phrase.index(\"Ins\")) #14"
      ],
      "metadata": {
        "colab": {
          "base_uri": "https://localhost:8080/"
        },
        "id": "dIme57wBTuy5",
        "outputId": "f6e51716-b5ce-4f40-ee3a-6fe6c3798948"
      },
      "execution_count": 13,
      "outputs": [
        {
          "output_type": "stream",
          "name": "stdout",
          "text": [
            "M\n",
            "c\n",
            "y\n",
            "27\n",
            "14\n"
          ]
        }
      ]
    },
    {
      "cell_type": "code",
      "source": [
        "word = 'Did coding'\n",
        "print(word[0:2])  # characters from position 0 (included) to 2 (excluded)\n",
        "#Di\n",
        "print(word[2:5])  # characters from position 2 (included) to 5 (excluded)\n",
        "#d c\n",
        "print(word[:2])   # character from the beginning to position 2 (excluded)\n",
        "#Di\n",
        "print(word[4:])   # characters from position 4 (included) to the end\n",
        "#coding\n",
        "print(word[-2:])  # characters from the second-last (included) to the end\n",
        "#ng\n",
        "print(word[:2] + word[2:])#Did coding\n",
        "print(word[:4] + word[4:])#Did coding"
      ],
      "metadata": {
        "colab": {
          "base_uri": "https://localhost:8080/"
        },
        "id": "a3phEB-rT0Ro",
        "outputId": "859f41d3-072b-4a6b-c8b3-3cd13d0afb02"
      },
      "execution_count": 14,
      "outputs": [
        {
          "output_type": "stream",
          "name": "stdout",
          "text": [
            "Di\n",
            "d c\n",
            "Di\n",
            "coding\n",
            "ng\n",
            "Did coding\n",
            "Did coding\n"
          ]
        }
      ]
    },
    {
      "cell_type": "code",
      "source": [
        "phrase=\"Massachusetts Institute of Technology\"\n",
        "print(phrase.replace(\"Massachusetts\",\"Indian\"))\n",
        "#Indian Institute of Technology\n"
      ],
      "metadata": {
        "colab": {
          "base_uri": "https://localhost:8080/"
        },
        "id": "rT_0cklvb4bU",
        "outputId": "024becc7-6fa4-4027-a9c4-f2e683934120"
      },
      "execution_count": 15,
      "outputs": [
        {
          "output_type": "stream",
          "name": "stdout",
          "text": [
            "Indian Institute of Technology\n"
          ]
        }
      ]
    },
    {
      "cell_type": "code",
      "source": [
        "print(3)#3\n",
        "print(3.60)#3.6\n",
        "print(-3.60)#-3.6\n",
        "print(3.60+3)#6.6\n",
        "print(6.60/3)#2.1999999999999997\n",
        "print(6.60//3)#2.0 #floor division\n",
        "print(1.60*3)#4.800000000000001\n",
        "print(2**2)#4\n",
        "print(8.60-3)#5.6\n",
        "print(3*(4+5))#27\n",
        "print(20%3)#2"
      ],
      "metadata": {
        "colab": {
          "base_uri": "https://localhost:8080/"
        },
        "id": "WWNMc04mb7qK",
        "outputId": "8a002c21-c524-4861-cab9-faff092c3106"
      },
      "execution_count": 16,
      "outputs": [
        {
          "output_type": "stream",
          "name": "stdout",
          "text": [
            "3\n",
            "3.6\n",
            "-3.6\n",
            "6.6\n",
            "2.1999999999999997\n",
            "2.0\n",
            "4.800000000000001\n",
            "4\n",
            "5.6\n",
            "27\n",
            "2\n"
          ]
        }
      ]
    },
    {
      "cell_type": "code",
      "source": [
        "num=5\n",
        "print(\"My roll is \"+str(num)) #need to type cast integer while printing with string\n",
        "#My roll is 5\n"
      ],
      "metadata": {
        "colab": {
          "base_uri": "https://localhost:8080/"
        },
        "id": "-oYRghCAb-0S",
        "outputId": "6a19503c-93e5-43c6-d140-d999662f09a3"
      },
      "execution_count": 17,
      "outputs": [
        {
          "output_type": "stream",
          "name": "stdout",
          "text": [
            "My roll is 5\n"
          ]
        }
      ]
    },
    {
      "cell_type": "code",
      "source": [
        "from math import *\n",
        "\n",
        "my_num=-5\n",
        "print(abs(my_num)) #-5\n",
        "print(pow(2,2)) #4\n",
        "print(max(3,4,5,7)) #7 \n",
        "print(min(2,3,1,-1)) #-1\n",
        "print(round(4.50)) #5\n",
        "print(ceil(4.30))#5\n",
        "print(floor(4.70))#4\n",
        "print(sqrt(36))#6\n"
      ],
      "metadata": {
        "colab": {
          "base_uri": "https://localhost:8080/"
        },
        "id": "6KMwYx0TvH8F",
        "outputId": "f59bdf8c-d59f-482c-cbb4-6538a724b503"
      },
      "execution_count": 1,
      "outputs": [
        {
          "output_type": "stream",
          "name": "stdout",
          "text": [
            "5\n",
            "4.0\n",
            "7\n",
            "-1\n",
            "4\n",
            "5\n",
            "4\n",
            "6.0\n"
          ]
        }
      ]
    },
    {
      "cell_type": "code",
      "source": [
        "name=input(\"Please Enter Your Name \\n\")\n",
        "age=input(\"Please Enter Your Age \\n\")\n",
        "print(name+\" : \"+age)\n"
      ],
      "metadata": {
        "colab": {
          "base_uri": "https://localhost:8080/"
        },
        "id": "mspV0TosvPxb",
        "outputId": "94e8290c-1cdc-441f-b17b-214006e9ddb0"
      },
      "execution_count": 2,
      "outputs": [
        {
          "output_type": "stream",
          "name": "stdout",
          "text": [
            "Please Enter Your Name \n",
            "zahid\n",
            "Please Enter Your Age \n",
            "12\n",
            "zahid : 12\n"
          ]
        }
      ]
    },
    {
      "cell_type": "code",
      "source": [
        "numOne=input(\"Enter the first number \\n\")\n",
        "numTwo=input(\"Enter the second number \\n\")\n",
        "result=int(numOne)+float(numTwo) #need to type cast\n",
        "print(result)\n"
      ],
      "metadata": {
        "colab": {
          "base_uri": "https://localhost:8080/"
        },
        "id": "hYWRoGo2vUGU",
        "outputId": "3e790dea-ee33-4949-94df-14c495770032"
      },
      "execution_count": 3,
      "outputs": [
        {
          "output_type": "stream",
          "name": "stdout",
          "text": [
            "Enter the first number \n",
            "12\n",
            "Enter the second number \n",
            "32\n",
            "44.0\n"
          ]
        }
      ]
    },
    {
      "cell_type": "code",
      "source": [
        "name=input(\"Enter your name \\n\")\n",
        "age=input(\"Enter your age \\n\")\n",
        "cgpa=input(\"Enter your cgpa \\n\")\n",
        "print(\"My name is \"+name)\n",
        "print(\"My age is \"+age)\n",
        "print(\"My cgpa is \"+cgpa)\n"
      ],
      "metadata": {
        "colab": {
          "base_uri": "https://localhost:8080/"
        },
        "id": "ng-zAEK6xUIt",
        "outputId": "8d2e1610-fac3-4690-9bcd-702eb263ba67"
      },
      "execution_count": 4,
      "outputs": [
        {
          "output_type": "stream",
          "name": "stdout",
          "text": [
            "Enter your name \n",
            "zahid\n",
            "Enter your age \n",
            "12\n",
            "Enter your cgpa \n",
            "3.90\n",
            "My name is zahid\n",
            "My age is 12\n",
            "My cgpa is 3.90\n"
          ]
        }
      ]
    },
    {
      "cell_type": "code",
      "source": [
        "myList= [\"Spiderman\",2022,True,\"Ironman\",\"Xmen\"]\n",
        "print(myList)\n",
        "print(myList[0])\n",
        "print(myList[-1]) #last index : Xmen\n"
      ],
      "metadata": {
        "colab": {
          "base_uri": "https://localhost:8080/"
        },
        "id": "UYXpru5QxaPG",
        "outputId": "cbf69a6a-6558-4fab-c05a-f5bf29dc04ac"
      },
      "execution_count": 5,
      "outputs": [
        {
          "output_type": "stream",
          "name": "stdout",
          "text": [
            "['Spiderman', 2022, True, 'Ironman', 'Xmen']\n",
            "Spiderman\n",
            "Xmen\n"
          ]
        }
      ]
    },
    {
      "cell_type": "code",
      "source": [
        "myList= [\"Spiderman\",2022,True,\"Ironman\",\"Xmen\"] \n",
        "print(myList[1:4]) #inclusive 1 to Exclusive 4\n",
        "print(myList[1:]) #inclusive 1 to the end\n",
        "print(myList[:3])#inclusive 0 to Exclusive 3"
      ],
      "metadata": {
        "colab": {
          "base_uri": "https://localhost:8080/"
        },
        "id": "g00whXwsxcn9",
        "outputId": "b9f1a746-1c1e-458f-994c-46fa4f7622d7"
      },
      "execution_count": 6,
      "outputs": [
        {
          "output_type": "stream",
          "name": "stdout",
          "text": [
            "[2022, True, 'Ironman']\n",
            "[2022, True, 'Ironman', 'Xmen']\n",
            "['Spiderman', 2022, True]\n"
          ]
        }
      ]
    },
    {
      "cell_type": "code",
      "source": [
        "myList= [\"Spiderman\",2022,True,\"Ironman\",\"Xmen\"]\n",
        "myList[4]=\"Harry Potter\"\n",
        "print(myList) #['Spiderman', 2022, True, 'Ironman', 'Harry Potter']"
      ],
      "metadata": {
        "colab": {
          "base_uri": "https://localhost:8080/"
        },
        "id": "R6zs6R2Sxe61",
        "outputId": "3d33fedb-b8f9-4c90-b08b-2e6d7c548f5b"
      },
      "execution_count": 7,
      "outputs": [
        {
          "output_type": "stream",
          "name": "stdout",
          "text": [
            "['Spiderman', 2022, True, 'Ironman', 'Harry Potter']\n"
          ]
        }
      ]
    },
    {
      "cell_type": "code",
      "source": [
        "myList= [\"Spiderman\",2021,True]\n",
        "yourList = [\"Doctor Strange\",2022,True]\n",
        "myList.extend(yourList);\n",
        "print(myList) #['Spiderman', 2021, True, 'Doctor Strange', 2022, True]"
      ],
      "metadata": {
        "colab": {
          "base_uri": "https://localhost:8080/"
        },
        "id": "a8E9Pv2QxhAG",
        "outputId": "12ecfb0a-7339-4819-8967-4f16eef0362b"
      },
      "execution_count": 8,
      "outputs": [
        {
          "output_type": "stream",
          "name": "stdout",
          "text": [
            "['Spiderman', 2021, True, 'Doctor Strange', 2022, True]\n"
          ]
        }
      ]
    },
    {
      "cell_type": "code",
      "source": [
        "myList= [\"Spiderman\",2021,True]\n",
        "myList.append(False);\n",
        "print(myList) #['Spiderman', 2021, True, False]"
      ],
      "metadata": {
        "colab": {
          "base_uri": "https://localhost:8080/"
        },
        "id": "Z2G9xM-Bxi38",
        "outputId": "49f7c1d1-20f1-4b90-cb6b-0e32671f5b6d"
      },
      "execution_count": 9,
      "outputs": [
        {
          "output_type": "stream",
          "name": "stdout",
          "text": [
            "['Spiderman', 2021, True, False]\n"
          ]
        }
      ]
    },
    {
      "cell_type": "code",
      "source": [
        "x=[1,2,3]\n",
        "y=[4,5,6]\n",
        "z=x+y\n",
        "print(z) #[1, 2, 3, 4, 5, 6]"
      ],
      "metadata": {
        "colab": {
          "base_uri": "https://localhost:8080/"
        },
        "id": "70VgDbFmxlfN",
        "outputId": "569dd5e5-d2c8-4f58-fd77-f489c058712f"
      },
      "execution_count": 10,
      "outputs": [
        {
          "output_type": "stream",
          "name": "stdout",
          "text": [
            "[1, 2, 3, 4, 5, 6]\n"
          ]
        }
      ]
    },
    {
      "cell_type": "code",
      "source": [
        "myList= [\"Spiderman\",2021,True,3.60]\n",
        "myList.insert(1,2020) #inserting 2020 in position 1\n",
        "myList.remove(3.60) #remove 3.60 from the list"
      ],
      "metadata": {
        "id": "ZGaQvgK6xnIe"
      },
      "execution_count": 11,
      "outputs": []
    },
    {
      "cell_type": "code",
      "source": [
        "myList=[\"Spiderman\",2021,True,3.60]\n",
        "myList.pop()  #pop out the last data\n",
        "myList.clear() #clear all data"
      ],
      "metadata": {
        "id": "RfzyBRkJxo4s"
      },
      "execution_count": 12,
      "outputs": []
    },
    {
      "cell_type": "code",
      "source": [
        "myList= [\"Spiderman\",2021,True,3.60,\"Doctor Strange\",2022,3.60]\n",
        "print(myList.count(3.60)) #2"
      ],
      "metadata": {
        "colab": {
          "base_uri": "https://localhost:8080/"
        },
        "id": "ufixs9Udxrs0",
        "outputId": "02d70da9-fd5d-4c6e-816c-5687ccde9ec3"
      },
      "execution_count": 13,
      "outputs": [
        {
          "output_type": "stream",
          "name": "stdout",
          "text": [
            "2\n"
          ]
        }
      ]
    },
    {
      "cell_type": "code",
      "source": [
        "myList= [55,11,77,22,99,44,33]\n",
        "myList.sort()\n",
        "myList.reverse()\n",
        "print(myList) #[99, 77, 55, 44, 33, 22, 11]"
      ],
      "metadata": {
        "colab": {
          "base_uri": "https://localhost:8080/"
        },
        "id": "BYVoDFtaxupm",
        "outputId": "70e9a5c2-5725-464c-d5ec-82edcb43b48e"
      },
      "execution_count": 14,
      "outputs": [
        {
          "output_type": "stream",
          "name": "stdout",
          "text": [
            "[99, 77, 55, 44, 33, 22, 11]\n"
          ]
        }
      ]
    },
    {
      "cell_type": "code",
      "source": [
        "myList= [55,11,77,22,99,44,33]\n",
        "yourList=myList.copy()\n"
      ],
      "metadata": {
        "id": "CI08ErPjxw_8"
      },
      "execution_count": 15,
      "outputs": []
    },
    {
      "cell_type": "code",
      "source": [
        "tupleCollection = (11,22,33,44,55,66,77,88,99,110)\n",
        "print(tupleCollection[4]) #access tuple\n",
        "#tupleCollection[3]=121 #not possible – cant change or modify"
      ],
      "metadata": {
        "colab": {
          "base_uri": "https://localhost:8080/"
        },
        "id": "j6VeU2vAxzJH",
        "outputId": "28f0a690-e3b4-4c5d-de3b-325f26abad3b"
      },
      "execution_count": 18,
      "outputs": [
        {
          "output_type": "stream",
          "name": "stdout",
          "text": [
            "55\n"
          ]
        }
      ]
    },
    {
      "cell_type": "code",
      "source": [
        "tupleCollection = [(11,22),(33,44),(55,66),(77,88)]\n",
        "print(tupleCollection[1][0])#access"
      ],
      "metadata": {
        "colab": {
          "base_uri": "https://localhost:8080/"
        },
        "id": "jZKCyp1nx1f9",
        "outputId": "9cd91098-376e-4510-9712-3f7840e1c38e"
      },
      "execution_count": 17,
      "outputs": [
        {
          "output_type": "stream",
          "name": "stdout",
          "text": [
            "33\n"
          ]
        }
      ]
    },
    {
      "cell_type": "code",
      "source": [
        "def custom_Func():\n",
        "    print(\"This is a Custom Function for checking\")\n",
        "print(\"Before the Custom Function\")\n",
        "custom_Func()\n",
        "print(\"After the Custom Function\")\n"
      ],
      "metadata": {
        "colab": {
          "base_uri": "https://localhost:8080/"
        },
        "id": "4Yms0qzHx7mO",
        "outputId": "758070ec-f059-4514-9257-82c2ac16d6f5"
      },
      "execution_count": 19,
      "outputs": [
        {
          "output_type": "stream",
          "name": "stdout",
          "text": [
            "Before the Custom Function\n",
            "This is a Custom Function for checking\n",
            "After the Custom Function\n"
          ]
        }
      ]
    },
    {
      "cell_type": "code",
      "source": [
        "def custom_Func(name,age):\n",
        "    print(\"My Name is \"+name+\". And my age is \"+str(age))\n",
        "custom_Func(\"Zahid\",18)\n"
      ],
      "metadata": {
        "colab": {
          "base_uri": "https://localhost:8080/"
        },
        "id": "x3Fi-L7Ax9bW",
        "outputId": "4f2cf75f-623e-4857-974b-4a33f1299030"
      },
      "execution_count": 20,
      "outputs": [
        {
          "output_type": "stream",
          "name": "stdout",
          "text": [
            "My Name is Zahid. And my age is 18\n"
          ]
        }
      ]
    },
    {
      "cell_type": "code",
      "source": [
        "def square(num):\n",
        "    return num*num*num\n",
        "value =square(3)\n",
        "print(value)\n"
      ],
      "metadata": {
        "colab": {
          "base_uri": "https://localhost:8080/"
        },
        "id": "qcdKphnsyAQ1",
        "outputId": "10210450-baee-4ca7-be3c-cc2ce071c08f"
      },
      "execution_count": 21,
      "outputs": [
        {
          "output_type": "stream",
          "name": "stdout",
          "text": [
            "27\n"
          ]
        }
      ]
    },
    {
      "cell_type": "code",
      "source": [
        "is_male = False\n",
        "is_tall = True\n",
        "if is_male and is_tall:\n",
        "    print(\"Tall and Dashing Boy\")\n",
        "elif not(is_male) and is_tall:\n",
        "    print(\"Tall but beautiful Girl\")\n",
        "elif not(is_male) and not(is_tall):\n",
        "    print(\"Short Girl\")\n",
        "elif is_male or is_tall:\n",
        "    print(\"Male or Tall or both\")\n",
        "else:\n",
        "    print(\"3rd Gender\")\n"
      ],
      "metadata": {
        "colab": {
          "base_uri": "https://localhost:8080/"
        },
        "id": "NYTB40CPyCTf",
        "outputId": "de221b24-a627-4578-937b-e515759762d6"
      },
      "execution_count": 22,
      "outputs": [
        {
          "output_type": "stream",
          "name": "stdout",
          "text": [
            "Tall but beautiful Girl\n"
          ]
        }
      ]
    },
    {
      "cell_type": "code",
      "source": [
        "def maxNumber(numOne,numTwo,numThree):\n",
        "    if numOne>=numTwo and numOne>=numThree:\n",
        "        print(str(numOne)+\" is greater\")\n",
        "    elif numTwo>=numOne and numTwo>=numThree:\n",
        "        print(str(numTwo)+\" is greater\")\n",
        "    elif numThree>=numOne and numThree>=numTwo:\n",
        "        print(str(numThree)+\" is greater\")\n",
        "    elif numOne==numTwo and numTwo==numThree:\n",
        "        print(\"All are equal\")\n",
        "maxNumber(11,11,11)\n"
      ],
      "metadata": {
        "colab": {
          "base_uri": "https://localhost:8080/"
        },
        "id": "m4lQmuXHyG9_",
        "outputId": "371ab69d-4089-4d8d-fe8b-07a4912a97b7"
      },
      "execution_count": 23,
      "outputs": [
        {
          "output_type": "stream",
          "name": "stdout",
          "text": [
            "11 is greater\n"
          ]
        }
      ]
    },
    {
      "cell_type": "code",
      "source": [
        "def checkEquality(numOne,numTwo):\n",
        "    if numOne!=numTwo:\n",
        "        print(\"Not Equal\")\n",
        "    elif numTwo==numOne:\n",
        "        print(\"Equal\")\n",
        "checkEquality(11,11)\n"
      ],
      "metadata": {
        "colab": {
          "base_uri": "https://localhost:8080/"
        },
        "id": "b6aejRIFyItu",
        "outputId": "180f0741-7526-41f1-ee5d-3c5e3860fa37"
      },
      "execution_count": 24,
      "outputs": [
        {
          "output_type": "stream",
          "name": "stdout",
          "text": [
            "Equal\n"
          ]
        }
      ]
    },
    {
      "cell_type": "code",
      "source": [
        "numberOne = int(input(\"Please Enter Number One\"))\n",
        "numberTwo = int(input(\"Please Enter Number Two\"))\n",
        "operator = input(\"Please Enter operator\")\n",
        "def calculate(numberOne,numberTwo):\n",
        "    if operator == \"+\":\n",
        "        return numberOne+numberTwo\n",
        "    elif operator == \"-\":\n",
        "        return numberOne-numberTwo\n",
        "    elif operator == \"*\":\n",
        "        return numberOne*numberTwo\n",
        "    elif operator == \"/\":\n",
        "        return numberOne/numberTwo\n",
        "result=calculate(numberOne,numberTwo)\n",
        "print(\"The result is \"+str(result))\n"
      ],
      "metadata": {
        "colab": {
          "base_uri": "https://localhost:8080/"
        },
        "id": "JSRq3C-vyLoW",
        "outputId": "bda4c433-7c04-4547-db4e-9266e39d3f00"
      },
      "execution_count": 25,
      "outputs": [
        {
          "output_type": "stream",
          "name": "stdout",
          "text": [
            "Please Enter Number One12\n",
            "Please Enter Number Two32\n",
            "Please Enter operator+\n",
            "The result is 44\n"
          ]
        }
      ]
    },
    {
      "cell_type": "code",
      "source": [
        "Information={\n",
        "    \"name\":\"Md. Zahidur Rahman\",\n",
        "    \"program\":\"Post Graduate Diploma in Information and Communication Technology\",\n",
        "    \"id\":\"PGD1727\",\n",
        "    \"campus\":\"Bangladesh Agriculture University\",\n",
        "    \"department\":\"Computer Science & Mathematics\",\n",
        "    \"faculty\": \"Engineering & Technology\"\n",
        "}\n",
        "print(Information['name'])\n",
        "print(Information.get(\"id\"))\n",
        "print(Information.get(\"roll\",\"Roll is not present\")) #check the data presents or not"
      ],
      "metadata": {
        "colab": {
          "base_uri": "https://localhost:8080/"
        },
        "id": "OrWDQxUWyXr-",
        "outputId": "a46307c9-1c21-4c76-e0a6-3a036f653370"
      },
      "execution_count": 26,
      "outputs": [
        {
          "output_type": "stream",
          "name": "stdout",
          "text": [
            "Md. Zahidur Rahman\n",
            "PGD1727\n",
            "Roll is not present\n"
          ]
        }
      ]
    }
  ]
}