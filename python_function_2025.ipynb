{
  "nbformat": 4,
  "nbformat_minor": 0,
  "metadata": {
    "colab": {
      "provenance": [],
      "authorship_tag": "ABX9TyNLHBUW4zePhnD3vFjR/zRo",
      "include_colab_link": true
    },
    "kernelspec": {
      "name": "python3",
      "display_name": "Python 3"
    },
    "language_info": {
      "name": "python"
    }
  },
  "cells": [
    {
      "cell_type": "markdown",
      "metadata": {
        "id": "view-in-github",
        "colab_type": "text"
      },
      "source": [
        "<a href=\"https://colab.research.google.com/github/zahid-bracu/programming-language-python/blob/main/python_function_2025.ipynb\" target=\"_parent\"><img src=\"https://colab.research.google.com/assets/colab-badge.svg\" alt=\"Open In Colab\"/></a>"
      ]
    },
    {
      "cell_type": "markdown",
      "source": [
        "#Function"
      ],
      "metadata": {
        "id": "TytyUjIyTT2X"
      }
    },
    {
      "cell_type": "markdown",
      "source": [
        "###Function call\n",
        "####Function call : Print Text inside funtion"
      ],
      "metadata": {
        "id": "ky3SmrjcTwXZ"
      }
    },
    {
      "cell_type": "code",
      "execution_count": 3,
      "metadata": {
        "colab": {
          "base_uri": "https://localhost:8080/"
        },
        "id": "pdMrGUzvTFw6",
        "outputId": "42122231-21d8-4ee0-f8c1-c069bb39bb2e"
      },
      "outputs": [
        {
          "output_type": "stream",
          "name": "stdout",
          "text": [
            "Printing\n"
          ]
        }
      ],
      "source": [
        "def printFunction():\n",
        "  print(\"Printing\")\n",
        "printFunction()"
      ]
    },
    {
      "cell_type": "markdown",
      "source": [
        "####Argument in Function"
      ],
      "metadata": {
        "id": "yR1b6PcvUN9g"
      }
    },
    {
      "cell_type": "code",
      "source": [
        "def printName(Name):\n",
        "  print(\"My name is \"+Name)\n",
        "printName(\"Zahid\")"
      ],
      "metadata": {
        "colab": {
          "base_uri": "https://localhost:8080/"
        },
        "id": "M2NYQqkLUU6Q",
        "outputId": "9684b030-2ce1-4e40-81d1-ea1b85bce620"
      },
      "execution_count": 4,
      "outputs": [
        {
          "output_type": "stream",
          "name": "stdout",
          "text": [
            "My name is Zahid\n"
          ]
        }
      ]
    },
    {
      "cell_type": "markdown",
      "source": [
        "####Multiple Arguments in Function"
      ],
      "metadata": {
        "id": "ztp2mmvJUyNl"
      }
    },
    {
      "cell_type": "code",
      "source": [
        "def printMultArgument(Name,Age):\n",
        "  print(\"My name is \"+Name+\" and my age is \"+str(Age))\n",
        "printMultArgument(\"Zahid\",18)"
      ],
      "metadata": {
        "colab": {
          "base_uri": "https://localhost:8080/"
        },
        "id": "Z4Q_UpEcU4Yw",
        "outputId": "ea154b87-93df-4b94-fed5-8e4bc9429a14"
      },
      "execution_count": 6,
      "outputs": [
        {
          "output_type": "stream",
          "name": "stdout",
          "text": [
            "My name is Zahid and my age is 18\n"
          ]
        }
      ]
    },
    {
      "cell_type": "markdown",
      "source": [
        "####Arbitrary Arguments in Function"
      ],
      "metadata": {
        "id": "0EKrGYJ-YUhM"
      }
    },
    {
      "cell_type": "code",
      "source": [
        "def printMultArgument(*Data):\n",
        "  print(Data[0]+\" \"+Data[1]+\" \"+Data[2])\n",
        "printMultArgument(\"Zahid\",\"Rahman\",\"Tushi\")"
      ],
      "metadata": {
        "colab": {
          "base_uri": "https://localhost:8080/"
        },
        "id": "CIIPhye_Yb7i",
        "outputId": "5b391326-9632-478b-9726-25edb1a89011"
      },
      "execution_count": 8,
      "outputs": [
        {
          "output_type": "stream",
          "name": "stdout",
          "text": [
            "Zahid Rahman Tushi\n"
          ]
        }
      ]
    },
    {
      "cell_type": "markdown",
      "source": [
        "####Keyword Arguments in Function"
      ],
      "metadata": {
        "id": "xSn67QV9iKVy"
      }
    },
    {
      "cell_type": "code",
      "source": [
        "def printMultArgument(first,middle,last):\n",
        "  print(first+\" \"+middle+\" \"+last)\n",
        "printMultArgument(first=\"Zahid\",middle=\"Rahman\",last=\"Tushi\")"
      ],
      "metadata": {
        "colab": {
          "base_uri": "https://localhost:8080/"
        },
        "id": "1x_OlDPdiYrx",
        "outputId": "fb299e30-e8c0-4b09-f480-890b9652e0d6"
      },
      "execution_count": 9,
      "outputs": [
        {
          "output_type": "stream",
          "name": "stdout",
          "text": [
            "Zahid Rahman Tushi\n"
          ]
        }
      ]
    }
  ]
}